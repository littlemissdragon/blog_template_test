{
 "cells": [
  {
   "cell_type": "raw",
   "id": "3e4b0660-54c3-4445-ab26-d6c6deab0de1",
   "metadata": {},
   "source": [
    "---\n",
    "layout: article\n",
    "title: How to Open a Bank Account in Sigapore for Foreigners\n",
    "custom_css: article.css\n",
    "include_mathjax: true\n",
    "---"
   ]
  },
  {
   "cell_type": "code",
   "execution_count": null,
   "id": "88700541-6bdc-406c-9a41-70f221cdcb1b",
   "metadata": {
    "editable": true,
    "execution": {
     "iopub.execute_input": "2025-10-01T10:24:52.683416Z",
     "iopub.status.busy": "2025-10-01T10:24:52.682848Z",
     "iopub.status.idle": "2025-10-01T10:24:53.593104Z",
     "shell.execute_reply": "2025-10-01T10:24:53.592428Z"
    },
    "slideshow": {
     "slide_type": ""
    },
    "tags": [
     "remove_input"
    ]
   },
   "outputs": [],
   "source": [
    "# import necessary libs (available in jupyter/scipy-notebook docker image)\n",
    "import os\n",
    "import pandas as pd \n",
    "import numpy as np\n",
    "import matplotlib.pyplot as plt \n",
    "from matplotlib.ticker import FormatStrFormatter\n",
    "\n",
    "# define watermark \n",
    "def add_watermark(ax, x, y):\n",
    "    ax.text(ax.get_xlim()[0]+ x,\n",
    "            ax.get_ylim()[0]+ y,\n",
    "            \"ladydragoncapital\",\n",
    "            alpha=0.3, fontsize=16)\n",
    "\n",
    "\n",
    "# globals\n",
    "HOME_DIR = '/home/jovyan/_jupyter'\n",
    "DATA_DIR = os.path.join(HOME_DIR, 'data')\n",
    "\n",
    "# read in csv data\n",
    "years = pd.read_csv(os.path.join(DATA_DIR, 'countries_economic_stability_features.csv'))\n",
    "volatilities = pd.read_csv(os.path.join(DATA_DIR, 'countries_currency_volatility.csv'))\n",
    "political_stability = pd.read_csv(os.path.join(DATA_DIR, 'countries_political_stability.csv')).head()"
   ]
  },
  {
   "cell_type": "markdown",
   "id": "70e33162-5819-4a01-a05c-f171adfcd4a5",
   "metadata": {},
   "source": [
    "## Introduction ##\n",
    "\n",
    "In this article, we will introduce Singapore as an option for international diversification. To restate the main goal of our international diversification service: \n",
    "\n",
    "+ **Political risk reduction.** Build a safety net against political volatility in any one market, such as war and asset freezing,\n",
    "  \n",
    "+ **Economic risk reduction.** Hedge against domestic market volatility and currency inflation.\n",
    "\n",
    "+ **Growth potential enhancement.** Benefit from economic growth in different markets, which can lead to improved returns.\n",
    "\n",
    "\n",
    "First we will explore the economic stability and political stability of this country. Then we will explain how to remotely open a bank account in Singapore as a foreigner. \n",
    "\n",
    "## Economic Stability of Singapore ##\n",
    "\n",
    "To understand the economic stability of Singapore, we used the US economy, one of the most dominant forces in the global market, as the control sample to compare the following features: GDP growth, inflation rate, and unemployment rate. \n",
    "\n",
    "### GDP growth ###\n",
    "\n",
    "As shown in Figure 1, the GDP growth rates of Singapore and the US have a similar pattern, which indicates that these two economies are correlated. Meanwhile, Figure 2 shows that both the mean and standard deviation of Singapore GDP growth rate are higher than those of the US, indicating that the GDP of Singapore has been growing faster, but meanwhile it varies more with time and has higher volatility than the GDP of the US."
   ]
  },
  {
   "cell_type": "code",
   "execution_count": null,
   "id": "4bc0dd9c-72a6-4f08-8969-f7817869d107",
   "metadata": {
    "editable": true,
    "execution": {
     "iopub.execute_input": "2025-10-01T10:24:53.596346Z",
     "iopub.status.busy": "2025-10-01T10:24:53.596058Z",
     "iopub.status.idle": "2025-10-01T10:24:53.859077Z",
     "shell.execute_reply": "2025-10-01T10:24:53.858229Z"
    },
    "slideshow": {
     "slide_type": ""
    },
    "tags": [
     "remove_input"
    ]
   },
   "outputs": [],
   "source": [
    "# visualize the gdp growth rate\n",
    "fig_count = 1\n",
    "df = years[:]\n",
    "\n",
    "x = df['Year']\n",
    "y = df['SGP_GDP_Growth_Rate_Percentage']\n",
    "z = df['US_GDP_Growth_Rate_Percentage']\n",
    "\n",
    "\n",
    "# set the style to a dark theme\n",
    "plt.style.use(\"dark_background\")\n",
    "\n",
    "# match website background\n",
    "plt.rcParams[\"figure.facecolor\"] = \"#181818\"\n",
    "plt.rcParams[\"axes.facecolor\"] = \"#181818\"\n",
    "plt.rcParams[\"axes.edgecolor\"] = \"#181818\"\n",
    "\n",
    "fig, ax = plt.subplots(figsize=(8, 6))\n",
    "\n",
    "\n",
    "plt.scatter(x, y, label='Singapore')\n",
    "plt.plot(x, y)\n",
    "\n",
    "plt.scatter(x, z, label='United States')\n",
    "plt.plot(x, z)\n",
    "\n",
    "# add watermark\n",
    "add_watermark(ax, 1, 1)\n",
    "\n",
    "# set decimal points for x axis\n",
    "ax.xaxis.set_major_formatter(FormatStrFormatter('%.0f'))\n",
    "\n",
    "plt.xticks(rotation=0, fontsize=10)\n",
    "plt.yticks(fontsize=10)\n",
    "plt.ylabel('%', fontsize=11)\n",
    "plt.xlabel('Year', fontsize=11)\n",
    "#plt.xlim([50, 110])\n",
    "# set title\n",
    "plt.suptitle(\n",
    "    f\"Figure {fig_count}. 1961-2023 GDP Growth Rate\", y=0.0001, fontsize=10\n",
    ")\n",
    "fig_count += 1\n",
    "plt.legend()\n",
    "plt.show()"
   ]
  },
  {
   "cell_type": "code",
   "execution_count": null,
   "id": "8af3bd09-5c28-4162-9005-2ff95a0c65c6",
   "metadata": {
    "editable": true,
    "execution": {
     "iopub.execute_input": "2025-10-01T10:24:53.862202Z",
     "iopub.status.busy": "2025-10-01T10:24:53.861925Z",
     "iopub.status.idle": "2025-10-01T10:24:53.992160Z",
     "shell.execute_reply": "2025-10-01T10:24:53.991518Z"
    },
    "slideshow": {
     "slide_type": ""
    },
    "tags": [
     "remove_input"
    ]
   },
   "outputs": [],
   "source": [
    "# visualiza the mean and standard deviations of gdp growth rate\n",
    "SNP_gdp_growth_mean = df['SGP_GDP_Growth_Rate_Percentage'].mean()\n",
    "SNP_gdp_growth_std = df['SGP_GDP_Growth_Rate_Percentage'].std()\n",
    "US_gdp_growth_mean = df['US_GDP_Growth_Rate_Percentage'].mean()\n",
    "US_gdp_growth_std = df['US_GDP_Growth_Rate_Percentage'].std()\n",
    "\n",
    "mean = np.array([SNP_gdp_growth_mean, US_gdp_growth_mean])\n",
    "std = np.array([SNP_gdp_growth_std, US_gdp_growth_std])\n",
    "labels = np.array(['Singapore', 'US'])\n",
    "\n",
    "# set the style to a dark theme\n",
    "plt.style.use(\"dark_background\")\n",
    "\n",
    "# match website background\n",
    "plt.rcParams[\"figure.facecolor\"] = \"#181818\"\n",
    "plt.rcParams[\"axes.facecolor\"] = \"#181818\"\n",
    "plt.rcParams[\"axes.edgecolor\"] = \"#181818\"\n",
    "\n",
    "fig, ax = plt.subplots(figsize=(8, 6))\n",
    "\n",
    "plt.bar(labels, mean, width=0.3)\n",
    "plt.errorbar(labels, mean, yerr=std, fmt='x', color='r')\n",
    "\n",
    "# add watermark\n",
    "add_watermark(ax, 1, 1)\n",
    "\n",
    "plt.xticks(rotation=0, fontsize=10)\n",
    "plt.yticks(fontsize=10)\n",
    "plt.ylabel('Mean of GDP Growth Rate %', fontsize=11)\n",
    "plt.xlabel('Country', fontsize=11)\n",
    "plt.xlim([-1,2])\n",
    "# set title\n",
    "plt.suptitle(\n",
    "    f\"Figure {fig_count}. Mean and Standard Deviation of 1961-2023 GDP Growth Rate: Singapore vs. US\", y=0.0001, fontsize=10\n",
    ")\n",
    "fig_count += 1\n",
    "#plt.legend()\n",
    "plt.show()\n",
    "\n"
   ]
  },
  {
   "cell_type": "code",
   "execution_count": null,
   "id": "6f2c467e-a40a-4ecd-8e67-40e3df27624d",
   "metadata": {},
   "outputs": [],
   "source": []
  }
 ],
 "metadata": {
  "kernelspec": {
   "display_name": "Python 3 (ipykernel)",
   "language": "python",
   "name": "python3"
  },
  "language_info": {
   "codemirror_mode": {
    "name": "ipython",
    "version": 3
   },
   "file_extension": ".py",
   "mimetype": "text/x-python",
   "name": "python",
   "nbconvert_exporter": "python",
   "pygments_lexer": "ipython3",
   "version": "3.11.8"
  }
 },
 "nbformat": 4,
 "nbformat_minor": 5
}
